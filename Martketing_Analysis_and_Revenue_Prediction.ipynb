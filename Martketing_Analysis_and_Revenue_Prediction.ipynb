{
  "cells": [
    {
      "attachments": {},
      "cell_type": "markdown",
      "metadata": {
        "id": "CdUvEaZgSYpo"
      },
      "source": [
        "# IMPORTING LIBRARIES"
      ]
    },
    {
      "cell_type": "code",
      "execution_count": 272,
      "metadata": {
        "id": "jMUKjjcaRpLv"
      },
      "outputs": [],
      "source": [
        "#Importing libraries for data cleaning, processing and visualisation\n",
        "import pandas as pd\n",
        "import numpy as np\n",
        "import matplotlib.pyplot as plt\n",
        "import seaborn as sns \n",
        "import plotly.express  as px\n",
        "\n",
        "#Importing libaries for machine learning\n",
        "from sklearn.linear_model import LinearRegression, Ridge, Lasso\n",
        "from sklearn.ensemble import RandomForestRegressor, GradientBoostingRegressor\n",
        "from sklearn.tree import DecisionTreeRegressor,plot_tree\n",
        "from sklearn.model_selection import train_test_split\n",
        "from sklearn.metrics import mean_squared_error\n",
        "from sklearn.metrics import r2_score\n",
        "from sklearn.metrics import mean_absolute_error\n",
        "from sklearn.preprocessing import StandardScaler\n",
        "from sklearn.svm import SVR\n"
      ]
    },
    {
      "attachments": {},
      "cell_type": "markdown",
      "metadata": {
        "id": "J2xwiRrUT1DW"
      },
      "source": [
        "#IMPORTING DATA"
      ]
    },
    {
      "cell_type": "code",
      "execution_count": 273,
      "metadata": {
        "colab": {
          "base_uri": "https://localhost:8080/",
          "height": 206
        },
        "id": "ZA0Ir4tESfKp",
        "outputId": "354c56a4-9228-4091-84ed-cda87632e24e"
      },
      "outputs": [
        {
          "data": {
            "text/html": [
              "<div>\n",
              "<style scoped>\n",
              "    .dataframe tbody tr th:only-of-type {\n",
              "        vertical-align: middle;\n",
              "    }\n",
              "\n",
              "    .dataframe tbody tr th {\n",
              "        vertical-align: top;\n",
              "    }\n",
              "\n",
              "    .dataframe thead th {\n",
              "        text-align: right;\n",
              "    }\n",
              "</style>\n",
              "<table border=\"1\" class=\"dataframe\">\n",
              "  <thead>\n",
              "    <tr style=\"text-align: right;\">\n",
              "      <th></th>\n",
              "      <th>Unnamed: 0</th>\n",
              "      <th>revenue</th>\n",
              "      <th>reach</th>\n",
              "      <th>local_tv</th>\n",
              "      <th>online</th>\n",
              "      <th>instore</th>\n",
              "      <th>person</th>\n",
              "      <th>event</th>\n",
              "    </tr>\n",
              "  </thead>\n",
              "  <tbody>\n",
              "    <tr>\n",
              "      <th>0</th>\n",
              "      <td>845</td>\n",
              "      <td>45860.28</td>\n",
              "      <td>2</td>\n",
              "      <td>31694.91</td>\n",
              "      <td>2115</td>\n",
              "      <td>3296</td>\n",
              "      <td>8</td>\n",
              "      <td>non_event</td>\n",
              "    </tr>\n",
              "    <tr>\n",
              "      <th>1</th>\n",
              "      <td>483</td>\n",
              "      <td>63588.23</td>\n",
              "      <td>2</td>\n",
              "      <td>35040.17</td>\n",
              "      <td>1826</td>\n",
              "      <td>2501</td>\n",
              "      <td>14</td>\n",
              "      <td>special</td>\n",
              "    </tr>\n",
              "    <tr>\n",
              "      <th>2</th>\n",
              "      <td>513</td>\n",
              "      <td>23272.69</td>\n",
              "      <td>4</td>\n",
              "      <td>30992.82</td>\n",
              "      <td>1851</td>\n",
              "      <td>2524</td>\n",
              "      <td>6</td>\n",
              "      <td>special</td>\n",
              "    </tr>\n",
              "    <tr>\n",
              "      <th>3</th>\n",
              "      <td>599</td>\n",
              "      <td>45911.23</td>\n",
              "      <td>2</td>\n",
              "      <td>29417.78</td>\n",
              "      <td>2437</td>\n",
              "      <td>3049</td>\n",
              "      <td>12</td>\n",
              "      <td>special</td>\n",
              "    </tr>\n",
              "    <tr>\n",
              "      <th>4</th>\n",
              "      <td>120</td>\n",
              "      <td>36644.23</td>\n",
              "      <td>2</td>\n",
              "      <td>35611.11</td>\n",
              "      <td>1122</td>\n",
              "      <td>1142</td>\n",
              "      <td>13</td>\n",
              "      <td>cobranding</td>\n",
              "    </tr>\n",
              "  </tbody>\n",
              "</table>\n",
              "</div>"
            ],
            "text/plain": [
              "   Unnamed: 0   revenue  reach  local_tv  online  instore  person       event\n",
              "0         845  45860.28      2  31694.91    2115     3296       8   non_event\n",
              "1         483  63588.23      2  35040.17    1826     2501      14     special\n",
              "2         513  23272.69      4  30992.82    1851     2524       6     special\n",
              "3         599  45911.23      2  29417.78    2437     3049      12     special\n",
              "4         120  36644.23      2  35611.11    1122     1142      13  cobranding"
            ]
          },
          "execution_count": 273,
          "metadata": {},
          "output_type": "execute_result"
        }
      ],
      "source": [
        "df=pd.read_csv('Project Dataset.csv')\n",
        "df.head()"
      ]
    },
    {
      "attachments": {},
      "cell_type": "markdown",
      "metadata": {},
      "source": [
        "**Observation:** \n",
        "\n",
        "- The dataframe has Eight features namely event, people, instore, online, local tv, reach, revenue and unnammed: 0.\n",
        "- The Revenue feature is the total amount of revenue generated by the company considering all routes of advertisement employed.\n",
        "- The reach feature is number of tweets on promoting the company.\n",
        "- The local TV feature amount to the investment on local television advertisement.\n",
        "- The Online feature amount to the investment on online advertisement.\n",
        "- The Person feature entails the input of staffs.\n",
        "- The instore feature amount to the investemnt on instore advertisement, this may include posters and displays.\n",
        "- The event feature entails the events held to promote the store.\n",
        "- The unnammed :0 feature is a redudant column."
      ]
    },
    {
      "attachments": {},
      "cell_type": "markdown",
      "metadata": {
        "id": "-X955CpnUCmu"
      },
      "source": [
        "# DATA CLEANING"
      ]
    },
    {
      "attachments": {},
      "cell_type": "markdown",
      "metadata": {},
      "source": [
        "**Checking more information about thw data Frame**"
      ]
    },
    {
      "cell_type": "code",
      "execution_count": 274,
      "metadata": {
        "colab": {
          "base_uri": "https://localhost:8080/"
        },
        "id": "W3a9YH4fUI34",
        "outputId": "64694e57-6d5c-4e68-a008-244169e2c02d"
      },
      "outputs": [
        {
          "name": "stdout",
          "output_type": "stream",
          "text": [
            "<class 'pandas.core.frame.DataFrame'>\n",
            "RangeIndex: 985 entries, 0 to 984\n",
            "Data columns (total 8 columns):\n",
            " #   Column      Non-Null Count  Dtype  \n",
            "---  ------      --------------  -----  \n",
            " 0   Unnamed: 0  985 non-null    int64  \n",
            " 1   revenue     985 non-null    float64\n",
            " 2   reach       985 non-null    int64  \n",
            " 3   local_tv    929 non-null    float64\n",
            " 4   online      985 non-null    int64  \n",
            " 5   instore     985 non-null    int64  \n",
            " 6   person      985 non-null    int64  \n",
            " 7   event       985 non-null    object \n",
            "dtypes: float64(2), int64(5), object(1)\n",
            "memory usage: 61.7+ KB\n",
            "None\n",
            "\n",
            "\n",
            "Missing values:\n",
            "Unnamed: 0     0\n",
            "revenue        0\n",
            "reach          0\n",
            "local_tv      56\n",
            "online         0\n",
            "instore        0\n",
            "person         0\n",
            "event          0\n",
            "dtype: int64\n"
          ]
        }
      ],
      "source": [
        "print(df.info())\n",
        "print('')\n",
        "print('')\n",
        "print(\"Missing values:\")\n",
        "print(df.isnull().sum())"
      ]
    },
    {
      "attachments": {},
      "cell_type": "markdown",
      "metadata": {
        "id": "zV7gUxwjUOcf"
      },
      "source": [
        "**Observation:** \n",
        "\n",
        "- The dataframe has 5 int64, 2 float64 and  1 object datatype. There are 985 observations with missing values on the local_tv column. \n",
        "- Local Television has 56 missing values. \n",
        "- The question is, is it missing because they have no money invested on local tv advertisement or the amount was not recorded?"
      ]
    },
    {
      "attachments": {},
      "cell_type": "markdown",
      "metadata": {},
      "source": [
        "**Dropping redudant column**"
      ]
    },
    {
      "cell_type": "code",
      "execution_count": 275,
      "metadata": {
        "id": "u9qy0zzNXEHB"
      },
      "outputs": [
        {
          "data": {
            "text/html": [
              "<div>\n",
              "<style scoped>\n",
              "    .dataframe tbody tr th:only-of-type {\n",
              "        vertical-align: middle;\n",
              "    }\n",
              "\n",
              "    .dataframe tbody tr th {\n",
              "        vertical-align: top;\n",
              "    }\n",
              "\n",
              "    .dataframe thead th {\n",
              "        text-align: right;\n",
              "    }\n",
              "</style>\n",
              "<table border=\"1\" class=\"dataframe\">\n",
              "  <thead>\n",
              "    <tr style=\"text-align: right;\">\n",
              "      <th></th>\n",
              "      <th>revenue</th>\n",
              "      <th>reach</th>\n",
              "      <th>local_tv</th>\n",
              "      <th>online</th>\n",
              "      <th>instore</th>\n",
              "      <th>person</th>\n",
              "      <th>event</th>\n",
              "    </tr>\n",
              "  </thead>\n",
              "  <tbody>\n",
              "    <tr>\n",
              "      <th>0</th>\n",
              "      <td>45860.28</td>\n",
              "      <td>2</td>\n",
              "      <td>31694.91</td>\n",
              "      <td>2115</td>\n",
              "      <td>3296</td>\n",
              "      <td>8</td>\n",
              "      <td>non_event</td>\n",
              "    </tr>\n",
              "    <tr>\n",
              "      <th>1</th>\n",
              "      <td>63588.23</td>\n",
              "      <td>2</td>\n",
              "      <td>35040.17</td>\n",
              "      <td>1826</td>\n",
              "      <td>2501</td>\n",
              "      <td>14</td>\n",
              "      <td>special</td>\n",
              "    </tr>\n",
              "    <tr>\n",
              "      <th>2</th>\n",
              "      <td>23272.69</td>\n",
              "      <td>4</td>\n",
              "      <td>30992.82</td>\n",
              "      <td>1851</td>\n",
              "      <td>2524</td>\n",
              "      <td>6</td>\n",
              "      <td>special</td>\n",
              "    </tr>\n",
              "    <tr>\n",
              "      <th>3</th>\n",
              "      <td>45911.23</td>\n",
              "      <td>2</td>\n",
              "      <td>29417.78</td>\n",
              "      <td>2437</td>\n",
              "      <td>3049</td>\n",
              "      <td>12</td>\n",
              "      <td>special</td>\n",
              "    </tr>\n",
              "    <tr>\n",
              "      <th>4</th>\n",
              "      <td>36644.23</td>\n",
              "      <td>2</td>\n",
              "      <td>35611.11</td>\n",
              "      <td>1122</td>\n",
              "      <td>1142</td>\n",
              "      <td>13</td>\n",
              "      <td>cobranding</td>\n",
              "    </tr>\n",
              "    <tr>\n",
              "      <th>...</th>\n",
              "      <td>...</td>\n",
              "      <td>...</td>\n",
              "      <td>...</td>\n",
              "      <td>...</td>\n",
              "      <td>...</td>\n",
              "      <td>...</td>\n",
              "      <td>...</td>\n",
              "    </tr>\n",
              "    <tr>\n",
              "      <th>980</th>\n",
              "      <td>59546.57</td>\n",
              "      <td>2</td>\n",
              "      <td>31233.04</td>\n",
              "      <td>1849</td>\n",
              "      <td>4335</td>\n",
              "      <td>18</td>\n",
              "      <td>special</td>\n",
              "    </tr>\n",
              "    <tr>\n",
              "      <th>981</th>\n",
              "      <td>31138.22</td>\n",
              "      <td>3</td>\n",
              "      <td>34346.13</td>\n",
              "      <td>1200</td>\n",
              "      <td>3166</td>\n",
              "      <td>8</td>\n",
              "      <td>non_event</td>\n",
              "    </tr>\n",
              "    <tr>\n",
              "      <th>982</th>\n",
              "      <td>53704.80</td>\n",
              "      <td>4</td>\n",
              "      <td>NaN</td>\n",
              "      <td>1868</td>\n",
              "      <td>1649</td>\n",
              "      <td>15</td>\n",
              "      <td>cobranding</td>\n",
              "    </tr>\n",
              "    <tr>\n",
              "      <th>983</th>\n",
              "      <td>59909.10</td>\n",
              "      <td>3</td>\n",
              "      <td>30215.90</td>\n",
              "      <td>1532</td>\n",
              "      <td>3702</td>\n",
              "      <td>16</td>\n",
              "      <td>cobranding</td>\n",
              "    </tr>\n",
              "    <tr>\n",
              "      <th>984</th>\n",
              "      <td>32274.64</td>\n",
              "      <td>4</td>\n",
              "      <td>30535.26</td>\n",
              "      <td>2381</td>\n",
              "      <td>3578</td>\n",
              "      <td>12</td>\n",
              "      <td>cobranding</td>\n",
              "    </tr>\n",
              "  </tbody>\n",
              "</table>\n",
              "<p>985 rows × 7 columns</p>\n",
              "</div>"
            ],
            "text/plain": [
              "      revenue  reach  local_tv  online  instore  person       event\n",
              "0    45860.28      2  31694.91    2115     3296       8   non_event\n",
              "1    63588.23      2  35040.17    1826     2501      14     special\n",
              "2    23272.69      4  30992.82    1851     2524       6     special\n",
              "3    45911.23      2  29417.78    2437     3049      12     special\n",
              "4    36644.23      2  35611.11    1122     1142      13  cobranding\n",
              "..        ...    ...       ...     ...      ...     ...         ...\n",
              "980  59546.57      2  31233.04    1849     4335      18     special\n",
              "981  31138.22      3  34346.13    1200     3166       8   non_event\n",
              "982  53704.80      4       NaN    1868     1649      15  cobranding\n",
              "983  59909.10      3  30215.90    1532     3702      16  cobranding\n",
              "984  32274.64      4  30535.26    2381     3578      12  cobranding\n",
              "\n",
              "[985 rows x 7 columns]"
            ]
          },
          "execution_count": 275,
          "metadata": {},
          "output_type": "execute_result"
        }
      ],
      "source": [
        "#Dropping unnammed: o column\n",
        "df.drop('Unnamed: 0', axis=1, inplace=True)\n",
        "df"
      ]
    },
    {
      "attachments": {},
      "cell_type": "markdown",
      "metadata": {
        "id": "DYPGyxC4Uwvv"
      },
      "source": [
        "# Exploratory Data Analysis"
      ]
    },
    {
      "attachments": {},
      "cell_type": "markdown",
      "metadata": {
        "id": "mNgyxF8HVMB7"
      },
      "source": [
        "**Univariate Analysis**\n",
        "\n",
        "---\n",
        "\n"
      ]
    },
    {
      "attachments": {},
      "cell_type": "markdown",
      "metadata": {},
      "source": [
        "**statistics of the numerical data**"
      ]
    },
    {
      "cell_type": "code",
      "execution_count": 276,
      "metadata": {},
      "outputs": [
        {
          "data": {
            "text/html": [
              "<div>\n",
              "<style scoped>\n",
              "    .dataframe tbody tr th:only-of-type {\n",
              "        vertical-align: middle;\n",
              "    }\n",
              "\n",
              "    .dataframe tbody tr th {\n",
              "        vertical-align: top;\n",
              "    }\n",
              "\n",
              "    .dataframe thead th {\n",
              "        text-align: right;\n",
              "    }\n",
              "</style>\n",
              "<table border=\"1\" class=\"dataframe\">\n",
              "  <thead>\n",
              "    <tr style=\"text-align: right;\">\n",
              "      <th></th>\n",
              "      <th>revenue</th>\n",
              "      <th>reach</th>\n",
              "      <th>local_tv</th>\n",
              "      <th>online</th>\n",
              "      <th>instore</th>\n",
              "      <th>person</th>\n",
              "    </tr>\n",
              "  </thead>\n",
              "  <tbody>\n",
              "    <tr>\n",
              "      <th>count</th>\n",
              "      <td>985.000000</td>\n",
              "      <td>985.000000</td>\n",
              "      <td>929.000000</td>\n",
              "      <td>985.000000</td>\n",
              "      <td>985.000000</td>\n",
              "      <td>985.000000</td>\n",
              "    </tr>\n",
              "    <tr>\n",
              "      <th>mean</th>\n",
              "      <td>38357.355025</td>\n",
              "      <td>3.395939</td>\n",
              "      <td>31324.061109</td>\n",
              "      <td>1596.527919</td>\n",
              "      <td>3350.962437</td>\n",
              "      <td>11.053807</td>\n",
              "    </tr>\n",
              "    <tr>\n",
              "      <th>std</th>\n",
              "      <td>11675.603883</td>\n",
              "      <td>1.011913</td>\n",
              "      <td>3970.934733</td>\n",
              "      <td>496.131586</td>\n",
              "      <td>976.546381</td>\n",
              "      <td>3.041740</td>\n",
              "    </tr>\n",
              "    <tr>\n",
              "      <th>min</th>\n",
              "      <td>5000.000000</td>\n",
              "      <td>0.000000</td>\n",
              "      <td>20000.000000</td>\n",
              "      <td>0.000000</td>\n",
              "      <td>0.000000</td>\n",
              "      <td>0.000000</td>\n",
              "    </tr>\n",
              "    <tr>\n",
              "      <th>25%</th>\n",
              "      <td>30223.600000</td>\n",
              "      <td>3.000000</td>\n",
              "      <td>28733.830000</td>\n",
              "      <td>1253.000000</td>\n",
              "      <td>2690.000000</td>\n",
              "      <td>9.000000</td>\n",
              "    </tr>\n",
              "    <tr>\n",
              "      <th>50%</th>\n",
              "      <td>38159.110000</td>\n",
              "      <td>3.000000</td>\n",
              "      <td>31104.520000</td>\n",
              "      <td>1607.000000</td>\n",
              "      <td>3351.000000</td>\n",
              "      <td>11.000000</td>\n",
              "    </tr>\n",
              "    <tr>\n",
              "      <th>75%</th>\n",
              "      <td>45826.520000</td>\n",
              "      <td>4.000000</td>\n",
              "      <td>33972.410000</td>\n",
              "      <td>1921.000000</td>\n",
              "      <td>4011.000000</td>\n",
              "      <td>13.000000</td>\n",
              "    </tr>\n",
              "    <tr>\n",
              "      <th>max</th>\n",
              "      <td>79342.070000</td>\n",
              "      <td>7.000000</td>\n",
              "      <td>43676.900000</td>\n",
              "      <td>3280.000000</td>\n",
              "      <td>6489.000000</td>\n",
              "      <td>24.000000</td>\n",
              "    </tr>\n",
              "  </tbody>\n",
              "</table>\n",
              "</div>"
            ],
            "text/plain": [
              "            revenue       reach      local_tv       online      instore  \\\n",
              "count    985.000000  985.000000    929.000000   985.000000   985.000000   \n",
              "mean   38357.355025    3.395939  31324.061109  1596.527919  3350.962437   \n",
              "std    11675.603883    1.011913   3970.934733   496.131586   976.546381   \n",
              "min     5000.000000    0.000000  20000.000000     0.000000     0.000000   \n",
              "25%    30223.600000    3.000000  28733.830000  1253.000000  2690.000000   \n",
              "50%    38159.110000    3.000000  31104.520000  1607.000000  3351.000000   \n",
              "75%    45826.520000    4.000000  33972.410000  1921.000000  4011.000000   \n",
              "max    79342.070000    7.000000  43676.900000  3280.000000  6489.000000   \n",
              "\n",
              "           person  \n",
              "count  985.000000  \n",
              "mean    11.053807  \n",
              "std      3.041740  \n",
              "min      0.000000  \n",
              "25%      9.000000  \n",
              "50%     11.000000  \n",
              "75%     13.000000  \n",
              "max     24.000000  "
            ]
          },
          "execution_count": 276,
          "metadata": {},
          "output_type": "execute_result"
        }
      ],
      "source": [
        "#Five number summary, standard deviation and mean of the numerical adata\n",
        "df.describe()"
      ]
    },
    {
      "attachments": {},
      "cell_type": "markdown",
      "metadata": {
        "id": "CRBoQ8hzWD17"
      },
      "source": [
        "**Density Plot  for the numerical data**"
      ]
    },
    {
      "cell_type": "code",
      "execution_count": 277,
      "metadata": {
        "colab": {
          "base_uri": "https://localhost:8080/",
          "height": 486
        },
        "id": "X-TnpwLmU1mh",
        "outputId": "f1411300-6661-4341-94da-184c8c7fef8e"
      },
      "outputs": [
        {
          "data": {
            "text/plain": [
              "array([[<Axes: ylabel='Density'>, <Axes: ylabel='Density'>],\n",
              "       [<Axes: ylabel='Density'>, <Axes: ylabel='Density'>],\n",
              "       [<Axes: ylabel='Density'>, <Axes: ylabel='Density'>],\n",
              "       [<Axes: ylabel='Density'>, <Axes: ylabel='Density'>]], dtype=object)"
            ]
          },
          "execution_count": 277,
          "metadata": {},
          "output_type": "execute_result"
        },
        {
          "data": {
            "image/png": "[encoded data removed]",
            "text/plain": [
              "<Figure size 1200x600 with 8 Axes>"
            ]
          },
          "metadata": {},
          "output_type": "display_data"
        }
      ],
      "source": [
        "# Create the density plot\n",
        "df.plot(kind='density', subplots=True,layout=(4,2) ,sharex=False, figsize=(12, 6))"
      ]
    },
    {
      "attachments": {},
      "cell_type": "markdown",
      "metadata": {
        "id": "wyHy_FjWWLo3"
      },
      "source": [
        "**Observation:** \n",
        "\n",
        "- All features are normally distributed beside the reach feature that has many peaks.\n",
        "- The average amount of revenue generated was 38357, with the maximum of 79342 and the minimum of 5000. The below average may be accounted to the  early stage of advertisement because companies often prioritize growth over immediate profitability and may accept lower profits or even losses in the short term while focusing on expanding their market presence. However, if the date was given as one of the feature, the notion could have been easily confirmed.\n",
        "- More investments were made on Television advertisement, with its average 7000 less than the average of revenue generated. Television are considered because is a mass medium that reaches large and diverse audience. Thus, since it is a local television, this is a fastest way to market to local people. Moreover, Television combines both visual and audio element which create a compelling and memorable experience to viewers. Also, advertising on television improve trust and credibility since television is a trusted medium. \n",
        "- The minimum instore investement is zero, this may negatively impact revenues since advertisement enhance the Shopping Experience.\n",
        "- The minimum in person advertisemnt is zero, this may negatively impact the revenues because in person advertisement can garner direct sales opportunities. Moreover, in person advertisement ensure immediate feedback, also show brand visibility and reinforce physical identity. "
      ]
    },
    {
      "attachments": {},
      "cell_type": "markdown",
      "metadata": {
        "id": "T8xEx_ajYa5m"
      },
      "source": [
        "**Pie chart of the Counts of events held**"
      ]
    },
    {
      "cell_type": "code",
      "execution_count": 278,
      "metadata": {},
      "outputs": [
        {
          "data": {
            "image/png": "[encoded data removed]",
            "text/plain": [
              "<Figure size 800x600 with 1 Axes>"
            ]
          },
          "metadata": {},
          "output_type": "display_data"
        }
      ],
      "source": [
        "# Calculating the value counts of the 'event' column\n",
        "event_counts = df['event'].value_counts()\n",
        "\n",
        "# Define shades of blue colors\n",
        "colors = ['#1f77b4', '#3581b8', '#4d8fbf', '#63a8c6', '#79b0cd']\n",
        "\n",
        "# Plotting the pie chart with custom colors\n",
        "fig, ax = plt.subplots(figsize=(8, 6))\n",
        "ax.pie(event_counts.values, labels=event_counts.index, autopct='%1.1f%%', colors=colors)\n",
        "\n",
        "# Add actual counts as legend\n",
        "legend_labels = [f'{event}: {count}' for event, count in zip(event_counts.index, event_counts.values)]\n",
        "ax.legend(legend_labels, loc='upper right')\n",
        "\n",
        "# Title\n",
        "plt.title('Event Distribution')\n",
        "\n",
        "# Display the plot\n",
        "plt.show()"
      ]
    },
    {
      "attachments": {},
      "cell_type": "markdown",
      "metadata": {
        "id": "pChJDSE6Yjf0"
      },
      "source": [
        "**Observation** \n",
        "\n"
      ]
    },
    {
      "attachments": {},
      "cell_type": "markdown",
      "metadata": {
        "id": "SZ-3zJXGY2ce"
      },
      "source": [
        "**Multivariate Analysis**\n",
        "\n",
        "---\n",
        "\n"
      ]
    },
    {
      "cell_type": "code",
      "execution_count": 279,
      "metadata": {
        "colab": {
          "base_uri": "https://localhost:8080/",
          "height": 542
        },
        "id": "KOkozC-2Y7wk",
        "outputId": "75832b92-0859-4268-87fc-7f0429c18254"
      },
      "outputs": [
        {
          "data": {
            "text/plain": [
              "<Axes: >"
            ]
          },
          "execution_count": 279,
          "metadata": {},
          "output_type": "execute_result"
        },
        {
          "data": {
            "image/png": "[encoded data removed]",
            "text/plain": [
              "<Figure size 640x480 with 2 Axes>"
            ]
          },
          "metadata": {},
          "output_type": "display_data"
        }
      ],
      "source": [
        "#Heatmap of the numeric values\n",
        "sns.heatmap((df.drop('event', axis=1)).corr(),cmap=\"Blues\", annot=True)"
      ]
    },
    {
      "attachments": {},
      "cell_type": "markdown",
      "metadata": {
        "id": "EEyCME9-a89Y"
      },
      "source": [
        "**Observation**\n",
        "- There is no sign of Multicolinearity. \n",
        "- There is a moderate positive correlation between  Local_tv advertisement and Revenue. Thus, for the company to increase revenues, they should invest more on Local TV advertisement in order for them to harness more revenue.\n",
        "- An increase in store sales staff input has moderate positive correlation with Revenue. Thus, the company should also encourage in person markerting. \n",
        "- There is a weak negative correlation between Revenue and number of tweets. The company should gain more insights on twitter to ensure that it doesn't hamper their revenue. \n",
        "- Online and instore advertisement have weak positive correlation with revenue. This two advertisement doesn't have a great impact on the revenue. "
      ]
    },
    {
      "attachments": {},
      "cell_type": "markdown",
      "metadata": {
        "id": "Xzb3VxFw2ZdA"
      },
      "source": [
        "# Feature Engineering"
      ]
    },
    {
      "attachments": {},
      "cell_type": "markdown",
      "metadata": {
        "id": "HUJVCjFw4MjV"
      },
      "source": [
        "**HANDLING LOCAL TELEVISION COLUMN**\n",
        "\n",
        "---\n",
        "\n"
      ]
    },
    {
      "attachments": {},
      "cell_type": "markdown",
      "metadata": {
        "id": "L7oOuIG46JCk"
      },
      "source": [
        "**Checking the number of missing values**"
      ]
    },
    {
      "cell_type": "code",
      "execution_count": 280,
      "metadata": {
        "colab": {
          "base_uri": "https://localhost:8080/"
        },
        "id": "gmNKZ-Iv5oez",
        "outputId": "dbac7aa5-b354-4839-abe3-d8040f572c4b"
      },
      "outputs": [
        {
          "name": "stdout",
          "output_type": "stream",
          "text": [
            "Number of missing values: 56\n"
          ]
        }
      ],
      "source": [
        "#Number of missing values\n",
        "print('Number of missing values:', df['local_tv'].isnull().sum())"
      ]
    },
    {
      "attachments": {},
      "cell_type": "markdown",
      "metadata": {
        "id": "moQY5umf6PqD"
      },
      "source": [
        "**Checking the mean, median and mode**"
      ]
    },
    {
      "cell_type": "code",
      "execution_count": 281,
      "metadata": {
        "colab": {
          "base_uri": "https://localhost:8080/"
        },
        "id": "8eWFLgMN4cYg",
        "outputId": "85da385f-4e34-4a98-d21d-ca489aead59e"
      },
      "outputs": [
        {
          "name": "stdout",
          "output_type": "stream",
          "text": [
            "Skewness 0.0850322979027817\n",
            "Kurtosis -0.10913552096582313\n",
            "Mean: 31324.06110871905\n",
            "Median 31104.52\n",
            "Mode 20000.0\n"
          ]
        }
      ],
      "source": [
        "# Skewness\n",
        "print('Skewness', df['local_tv'].skew())\n",
        "# Kurtosis\n",
        "print('Kurtosis', df['local_tv'].kurtosis())\n",
        "# Mean\n",
        "print('Mean:', df['local_tv'].mean())\n",
        "# Median\n",
        "print('Median', df['local_tv'].median())\n",
        "# Mode\n",
        "print('Mode', df['local_tv'].mode()[0])"
      ]
    },
    {
      "attachments": {},
      "cell_type": "markdown",
      "metadata": {
        "id": "mJgneZh068gU"
      },
      "source": [
        "**Observation:** \n",
        "\n",
        "- The Skewness results illustrates that the data is normally distributed and the kurtosis shows no presence of outliers.\n",
        "- The Mean and Median expense of the local tv advertisement doesn't have great variance.\n",
        "- However, there is 11000 difference between the value that the company spent the most on local television advertisement and the average amount they spend on local television  advertisement."
      ]
    },
    {
      "attachments": {},
      "cell_type": "markdown",
      "metadata": {
        "id": "2jFuIGe46n_i"
      },
      "source": [
        "**Filling the missing values**"
      ]
    },
    {
      "cell_type": "code",
      "execution_count": 282,
      "metadata": {
        "id": "MZZTe-3z6nLj"
      },
      "outputs": [],
      "source": [
        "#Filling the missing values with the mean\n",
        "df_mean=pd.DataFrame(df['local_tv'].replace(np.nan,df['local_tv'].mean()))\n",
        "#Filling the missing values with the mode\n",
        "df_mode=pd.DataFrame(df['local_tv'].replace(np.nan,df['local_tv'].mode()[0]))\n",
        "#Filling the missing values with the median\n",
        "df_median=pd.DataFrame(df['local_tv'].replace(np.nan,df['local_tv'].median()))"
      ]
    },
    {
      "cell_type": "code",
      "execution_count": 283,
      "metadata": {
        "colab": {
          "base_uri": "https://localhost:8080/"
        },
        "id": "yk0f1Fne-tLH",
        "outputId": "aeca509a-3146-44ed-fb5f-8b266a645a15"
      },
      "outputs": [
        {
          "name": "stdout",
          "output_type": "stream",
          "text": [
            "Skewness\n",
            "\n",
            "Skewness 0.0850322979027817\n",
            "Mode_skewness -0.3490963929697198\n",
            "Mean_skewness 0.08754960872441551\n",
            "Median_skewness 0.09724520249790865\n",
            "\n",
            "Kurtosis\n",
            "\n",
            "Kurtosis -0.10913552096582313\n",
            "Mode_Kurtosis 0.10828353556972425\n",
            "Mean_Kurtosis 0.06532306319532655\n",
            "Median_Kurtosis 0.06545501758960226\n"
          ]
        }
      ],
      "source": [
        "#Skewness \n",
        "print('Skewness')\n",
        "print('')\n",
        "print('Skewness', df['local_tv'].skew())\n",
        "print('Mode_skewness', df_mode['local_tv'].skew())\n",
        "print('Mean_skewness', df_mean['local_tv'].skew())\n",
        "print('Median_skewness', df_median['local_tv'].skew())\n",
        "#Kurtosis\n",
        "print(\"\")\n",
        "print('Kurtosis')\n",
        "print(\"\")\n",
        "print('Kurtosis', df['local_tv'].kurtosis())\n",
        "print('Mode_Kurtosis', df_mode['local_tv'].kurtosis())\n",
        "print('Mean_Kurtosis', df_mean['local_tv'].kurtosis())\n",
        "print('Median_Kurtosis', df_median['local_tv'].kurtosis())"
      ]
    },
    {
      "attachments": {},
      "cell_type": "markdown",
      "metadata": {
        "id": "6tti1LSGAK6c"
      },
      "source": [
        "**Observation** \n",
        "\n",
        "- There is no great variation between skewness of data while using mean, mode and median.\n",
        "- However, the mean shows little skewness difference from the original data. Thus,  the mean will be used to fill the missing values.\n"
      ]
    },
    {
      "attachments": {},
      "cell_type": "markdown",
      "metadata": {
        "id": "GnLg0IuvD1G8"
      },
      "source": [
        "**Filling the data with Mean**"
      ]
    },
    {
      "cell_type": "code",
      "execution_count": 284,
      "metadata": {
        "id": "LF6h2S_ED9hc"
      },
      "outputs": [],
      "source": [
        "#Filling the missing values with the mean\n",
        "df['local_tv']=df['local_tv'].replace(np.nan,df['local_tv'].mean())"
      ]
    },
    {
      "attachments": {},
      "cell_type": "markdown",
      "metadata": {
        "id": "zf48D_OF6b7F"
      },
      "source": [
        "**ENCODING CATEGORICAL DATA**\n",
        "\n",
        "---\n",
        "\n"
      ]
    },
    {
      "cell_type": "code",
      "execution_count": 285,
      "metadata": {
        "colab": {
          "base_uri": "https://localhost:8080/",
          "height": 423
        },
        "id": "a7FN0v9G2ujc",
        "outputId": "3daefe90-c59b-4ef2-f6e9-846b5b074588"
      },
      "outputs": [
        {
          "data": {
            "text/html": [
              "<div>\n",
              "<style scoped>\n",
              "    .dataframe tbody tr th:only-of-type {\n",
              "        vertical-align: middle;\n",
              "    }\n",
              "\n",
              "    .dataframe tbody tr th {\n",
              "        vertical-align: top;\n",
              "    }\n",
              "\n",
              "    .dataframe thead th {\n",
              "        text-align: right;\n",
              "    }\n",
              "</style>\n",
              "<table border=\"1\" class=\"dataframe\">\n",
              "  <thead>\n",
              "    <tr style=\"text-align: right;\">\n",
              "      <th></th>\n",
              "      <th>revenue</th>\n",
              "      <th>reach</th>\n",
              "      <th>local_tv</th>\n",
              "      <th>online</th>\n",
              "      <th>instore</th>\n",
              "      <th>person</th>\n",
              "      <th>event_holiday</th>\n",
              "      <th>event_non_event</th>\n",
              "      <th>event_special</th>\n",
              "    </tr>\n",
              "  </thead>\n",
              "  <tbody>\n",
              "    <tr>\n",
              "      <th>0</th>\n",
              "      <td>45860.28</td>\n",
              "      <td>2</td>\n",
              "      <td>31694.910000</td>\n",
              "      <td>2115</td>\n",
              "      <td>3296</td>\n",
              "      <td>8</td>\n",
              "      <td>False</td>\n",
              "      <td>True</td>\n",
              "      <td>False</td>\n",
              "    </tr>\n",
              "    <tr>\n",
              "      <th>1</th>\n",
              "      <td>63588.23</td>\n",
              "      <td>2</td>\n",
              "      <td>35040.170000</td>\n",
              "      <td>1826</td>\n",
              "      <td>2501</td>\n",
              "      <td>14</td>\n",
              "      <td>False</td>\n",
              "      <td>False</td>\n",
              "      <td>True</td>\n",
              "    </tr>\n",
              "    <tr>\n",
              "      <th>2</th>\n",
              "      <td>23272.69</td>\n",
              "      <td>4</td>\n",
              "      <td>30992.820000</td>\n",
              "      <td>1851</td>\n",
              "      <td>2524</td>\n",
              "      <td>6</td>\n",
              "      <td>False</td>\n",
              "      <td>False</td>\n",
              "      <td>True</td>\n",
              "    </tr>\n",
              "    <tr>\n",
              "      <th>3</th>\n",
              "      <td>45911.23</td>\n",
              "      <td>2</td>\n",
              "      <td>29417.780000</td>\n",
              "      <td>2437</td>\n",
              "      <td>3049</td>\n",
              "      <td>12</td>\n",
              "      <td>False</td>\n",
              "      <td>False</td>\n",
              "      <td>True</td>\n",
              "    </tr>\n",
              "    <tr>\n",
              "      <th>4</th>\n",
              "      <td>36644.23</td>\n",
              "      <td>2</td>\n",
              "      <td>35611.110000</td>\n",
              "      <td>1122</td>\n",
              "      <td>1142</td>\n",
              "      <td>13</td>\n",
              "      <td>False</td>\n",
              "      <td>False</td>\n",
              "      <td>False</td>\n",
              "    </tr>\n",
              "    <tr>\n",
              "      <th>...</th>\n",
              "      <td>...</td>\n",
              "      <td>...</td>\n",
              "      <td>...</td>\n",
              "      <td>...</td>\n",
              "      <td>...</td>\n",
              "      <td>...</td>\n",
              "      <td>...</td>\n",
              "      <td>...</td>\n",
              "      <td>...</td>\n",
              "    </tr>\n",
              "    <tr>\n",
              "      <th>980</th>\n",
              "      <td>59546.57</td>\n",
              "      <td>2</td>\n",
              "      <td>31233.040000</td>\n",
              "      <td>1849</td>\n",
              "      <td>4335</td>\n",
              "      <td>18</td>\n",
              "      <td>False</td>\n",
              "      <td>False</td>\n",
              "      <td>True</td>\n",
              "    </tr>\n",
              "    <tr>\n",
              "      <th>981</th>\n",
              "      <td>31138.22</td>\n",
              "      <td>3</td>\n",
              "      <td>34346.130000</td>\n",
              "      <td>1200</td>\n",
              "      <td>3166</td>\n",
              "      <td>8</td>\n",
              "      <td>False</td>\n",
              "      <td>True</td>\n",
              "      <td>False</td>\n",
              "    </tr>\n",
              "    <tr>\n",
              "      <th>982</th>\n",
              "      <td>53704.80</td>\n",
              "      <td>4</td>\n",
              "      <td>31324.061109</td>\n",
              "      <td>1868</td>\n",
              "      <td>1649</td>\n",
              "      <td>15</td>\n",
              "      <td>False</td>\n",
              "      <td>False</td>\n",
              "      <td>False</td>\n",
              "    </tr>\n",
              "    <tr>\n",
              "      <th>983</th>\n",
              "      <td>59909.10</td>\n",
              "      <td>3</td>\n",
              "      <td>30215.900000</td>\n",
              "      <td>1532</td>\n",
              "      <td>3702</td>\n",
              "      <td>16</td>\n",
              "      <td>False</td>\n",
              "      <td>False</td>\n",
              "      <td>False</td>\n",
              "    </tr>\n",
              "    <tr>\n",
              "      <th>984</th>\n",
              "      <td>32274.64</td>\n",
              "      <td>4</td>\n",
              "      <td>30535.260000</td>\n",
              "      <td>2381</td>\n",
              "      <td>3578</td>\n",
              "      <td>12</td>\n",
              "      <td>False</td>\n",
              "      <td>False</td>\n",
              "      <td>False</td>\n",
              "    </tr>\n",
              "  </tbody>\n",
              "</table>\n",
              "<p>985 rows × 9 columns</p>\n",
              "</div>"
            ],
            "text/plain": [
              "      revenue  reach      local_tv  online  instore  person  event_holiday  \\\n",
              "0    45860.28      2  31694.910000    2115     3296       8          False   \n",
              "1    63588.23      2  35040.170000    1826     2501      14          False   \n",
              "2    23272.69      4  30992.820000    1851     2524       6          False   \n",
              "3    45911.23      2  29417.780000    2437     3049      12          False   \n",
              "4    36644.23      2  35611.110000    1122     1142      13          False   \n",
              "..        ...    ...           ...     ...      ...     ...            ...   \n",
              "980  59546.57      2  31233.040000    1849     4335      18          False   \n",
              "981  31138.22      3  34346.130000    1200     3166       8          False   \n",
              "982  53704.80      4  31324.061109    1868     1649      15          False   \n",
              "983  59909.10      3  30215.900000    1532     3702      16          False   \n",
              "984  32274.64      4  30535.260000    2381     3578      12          False   \n",
              "\n",
              "     event_non_event  event_special  \n",
              "0               True          False  \n",
              "1              False           True  \n",
              "2              False           True  \n",
              "3              False           True  \n",
              "4              False          False  \n",
              "..               ...            ...  \n",
              "980            False           True  \n",
              "981             True          False  \n",
              "982            False          False  \n",
              "983            False          False  \n",
              "984            False          False  \n",
              "\n",
              "[985 rows x 9 columns]"
            ]
          },
          "execution_count": 285,
          "metadata": {},
          "output_type": "execute_result"
        }
      ],
      "source": [
        "#non numerical data encoding \n",
        "df=pd.get_dummies(df, drop_first=True)\n",
        "df"
      ]
    },
    {
      "attachments": {},
      "cell_type": "markdown",
      "metadata": {
        "id": "OjPuW1WQ2csz"
      },
      "source": [
        "# MODELING"
      ]
    },
    {
      "attachments": {},
      "cell_type": "markdown",
      "metadata": {
        "id": "dVVu7pENSyIN"
      },
      "source": [
        "**Spliting the data into Preditors and response variable**"
      ]
    },
    {
      "cell_type": "code",
      "execution_count": 286,
      "metadata": {
        "id": "aYA3gY5N2hiQ"
      },
      "outputs": [],
      "source": [
        "#Response Variable\n",
        "y = df['revenue']\n",
        "y=np.array(y)\n",
        "#Predictor variable(Dropping Response variable)\n",
        "df= df.drop('revenue', axis=1)\n"
      ]
    },
    {
      "attachments": {},
      "cell_type": "markdown",
      "metadata": {
        "id": "NYUmdBJSU-WX"
      },
      "source": [
        "**Standardization of Predictors**"
      ]
    },
    {
      "cell_type": "code",
      "execution_count": 287,
      "metadata": {
        "id": "1_Vu6X1FVIA8"
      },
      "outputs": [],
      "source": [
        "st=StandardScaler()\n",
        "x=st.fit_transform(df)"
      ]
    },
    {
      "attachments": {},
      "cell_type": "markdown",
      "metadata": {
        "id": "otN3R_LsN6NU"
      },
      "source": [
        "**Spliting the data into training and testing data**"
      ]
    },
    {
      "cell_type": "code",
      "execution_count": 288,
      "metadata": {
        "id": "SyMBRiMf223v"
      },
      "outputs": [],
      "source": [
        "x_train, x_test, y_train, y_test = train_test_split(x, y, test_size=0.2, random_state=42)"
      ]
    },
    {
      "attachments": {},
      "cell_type": "markdown",
      "metadata": {
        "id": "DZ49VTg_29pm"
      },
      "source": [
        "**Building Different Models**"
      ]
    },
    {
      "cell_type": "code",
      "execution_count": 289,
      "metadata": {
        "id": "jg2yoLX02500"
      },
      "outputs": [],
      "source": [
        "#Linear Regression\n",
        "lr= LinearRegression()\n",
        "#Lasso Regression\n",
        "lsr=Lasso()\n",
        "#Ridge Regression\n",
        "rr= Ridge(alpha=0.1)\n",
        "#Support Vector Machine\n",
        "sr=SVR(kernel='linear', gamma='auto', C=1000)\n",
        "#Decision Tree\n",
        "dtr=DecisionTreeRegressor(max_depth=7, random_state=42)\n",
        "#Random Forest Regressor\n",
        "rfr = RandomForestRegressor(n_estimators=200, max_depth=7, random_state=42)"
      ]
    },
    {
      "attachments": {},
      "cell_type": "markdown",
      "metadata": {
        "id": "qHLXmmZnNh7Y"
      },
      "source": [
        "**Fitting different model to training data**"
      ]
    },
    {
      "cell_type": "code",
      "execution_count": 290,
      "metadata": {
        "colab": {
          "base_uri": "https://localhost:8080/",
          "height": 74
        },
        "id": "GgIhQzDr2-8L",
        "outputId": "9c8baa8e-0374-426d-e266-45328f91bf43"
      },
      "outputs": [
        {
          "data": {
            "text/html": [
              "<style>#sk-container-id-17 {color: black;background-color: white;}#sk-container-id-17 pre{padding: 0;}#sk-container-id-17 div.sk-toggleable {background-color: white;}#sk-container-id-17 label.sk-toggleable__label {cursor: pointer;display: block;width: 100%;margin-bottom: 0;padding: 0.3em;box-sizing: border-box;text-align: center;}#sk-container-id-17 label.sk-toggleable__label-arrow:before {content: \"▸\";float: left;margin-right: 0.25em;color: #696969;}#sk-container-id-17 label.sk-toggleable__label-arrow:hover:before {color: black;}#sk-container-id-17 div.sk-estimator:hover label.sk-toggleable__label-arrow:before {color: black;}#sk-container-id-17 div.sk-toggleable__content {max-height: 0;max-width: 0;overflow: hidden;text-align: left;background-color: #f0f8ff;}#sk-container-id-17 div.sk-toggleable__content pre {margin: 0.2em;color: black;border-radius: 0.25em;background-color: #f0f8ff;}#sk-container-id-17 input.sk-toggleable__control:checked~div.sk-toggleable__content {max-height: 200px;max-width: 100%;overflow: auto;}#sk-container-id-17 input.sk-toggleable__control:checked~label.sk-toggleable__label-arrow:before {content: \"▾\";}#sk-container-id-17 div.sk-estimator input.sk-toggleable__control:checked~label.sk-toggleable__label {background-color: #d4ebff;}#sk-container-id-17 div.sk-label input.sk-toggleable__control:checked~label.sk-toggleable__label {background-color: #d4ebff;}#sk-container-id-17 input.sk-hidden--visually {border: 0;clip: rect(1px 1px 1px 1px);clip: rect(1px, 1px, 1px, 1px);height: 1px;margin: -1px;overflow: hidden;padding: 0;position: absolute;width: 1px;}#sk-container-id-17 div.sk-estimator {font-family: monospace;background-color: #f0f8ff;border: 1px dotted black;border-radius: 0.25em;box-sizing: border-box;margin-bottom: 0.5em;}#sk-container-id-17 div.sk-estimator:hover {background-color: #d4ebff;}#sk-container-id-17 div.sk-parallel-item::after {content: \"\";width: 100%;border-bottom: 1px solid gray;flex-grow: 1;}#sk-container-id-17 div.sk-label:hover label.sk-toggleable__label {background-color: #d4ebff;}#sk-container-id-17 div.sk-serial::before {content: \"\";position: absolute;border-left: 1px solid gray;box-sizing: border-box;top: 0;bottom: 0;left: 50%;z-index: 0;}#sk-container-id-17 div.sk-serial {display: flex;flex-direction: column;align-items: center;background-color: white;padding-right: 0.2em;padding-left: 0.2em;position: relative;}#sk-container-id-17 div.sk-item {position: relative;z-index: 1;}#sk-container-id-17 div.sk-parallel {display: flex;align-items: stretch;justify-content: center;background-color: white;position: relative;}#sk-container-id-17 div.sk-item::before, #sk-container-id-17 div.sk-parallel-item::before {content: \"\";position: absolute;border-left: 1px solid gray;box-sizing: border-box;top: 0;bottom: 0;left: 50%;z-index: -1;}#sk-container-id-17 div.sk-parallel-item {display: flex;flex-direction: column;z-index: 1;position: relative;background-color: white;}#sk-container-id-17 div.sk-parallel-item:first-child::after {align-self: flex-end;width: 50%;}#sk-container-id-17 div.sk-parallel-item:last-child::after {align-self: flex-start;width: 50%;}#sk-container-id-17 div.sk-parallel-item:only-child::after {width: 0;}#sk-container-id-17 div.sk-dashed-wrapped {border: 1px dashed gray;margin: 0 0.4em 0.5em 0.4em;box-sizing: border-box;padding-bottom: 0.4em;background-color: white;}#sk-container-id-17 div.sk-label label {font-family: monospace;font-weight: bold;display: inline-block;line-height: 1.2em;}#sk-container-id-17 div.sk-label-container {text-align: center;}#sk-container-id-17 div.sk-container {/* jupyter's `normalize.less` sets `[hidden] { display: none; }` but bootstrap.min.css set `[hidden] { display: none !important; }` so we also need the `!important` here to be able to override the default hidden behavior on the sphinx rendered scikit-learn.org. See: https://github.com/scikit-learn/scikit-learn/issues/21755 */display: inline-block !important;position: relative;}#sk-container-id-17 div.sk-text-repr-fallback {display: none;}</style><div id=\"sk-container-id-17\" class=\"sk-top-container\"><div class=\"sk-text-repr-fallback\"><pre>RandomForestRegressor(max_depth=7, n_estimators=200, random_state=42)</pre><b>In a Jupyter environment, please rerun this cell to show the HTML representation or trust the notebook. <br />On GitHub, the HTML representation is unable to render, please try loading this page with nbviewer.org.</b></div><div class=\"sk-container\" hidden><div class=\"sk-item\"><div class=\"sk-estimator sk-toggleable\"><input class=\"sk-toggleable__control sk-hidden--visually\" id=\"sk-estimator-id-17\" type=\"checkbox\" checked><label for=\"sk-estimator-id-17\" class=\"sk-toggleable__label sk-toggleable__label-arrow\">RandomForestRegressor</label><div class=\"sk-toggleable__content\"><pre>RandomForestRegressor(max_depth=7, n_estimators=200, random_state=42)</pre></div></div></div></div></div>"
            ],
            "text/plain": [
              "RandomForestRegressor(max_depth=7, n_estimators=200, random_state=42)"
            ]
          },
          "execution_count": 290,
          "metadata": {},
          "output_type": "execute_result"
        }
      ],
      "source": [
        "#Linear Regression\n",
        "lr.fit(x_train,y_train)\n",
        "#Ridge Regression\n",
        "lsr.fit(x_train,y_train)\n",
        "#Ridge Regression\n",
        "rr.fit(x_train,y_train)\n",
        "#Support Vector Machine\n",
        "sr.fit(x_train, y_train)\n",
        "#Decision Tree\n",
        "dtr.fit(x_train,y_train)\n",
        "#Random Forest\n",
        "rfr.fit(x_train,y_train)"
      ]
    },
    {
      "attachments": {},
      "cell_type": "markdown",
      "metadata": {
        "id": "i2NGZArnNshY"
      },
      "source": [
        "**Predicting on the training data**"
      ]
    },
    {
      "cell_type": "code",
      "execution_count": 291,
      "metadata": {
        "id": "g9P-ZvIq3CAr"
      },
      "outputs": [],
      "source": [
        "#Linear Regression\n",
        "lr_y_train = lr.predict(x_train)\n",
        "#Lasso Regression\n",
        "lsr_y_train = lsr.predict(x_train)\n",
        "#Ridge Regression\n",
        "rr_y_train = rr.predict(x_train)\n",
        "#Support Vector Machine\n",
        "sr_y_train = sr.predict(x_train)\n",
        "#Decision Tree\n",
        "dtr_y_train = dtr.predict(x_train)\n",
        "#Random Forest\n",
        "rfr_y_train = rfr.predict(x_train)"
      ]
    },
    {
      "attachments": {},
      "cell_type": "markdown",
      "metadata": {
        "id": "mV5CNFDeNx0R"
      },
      "source": [
        "**Predicting on the Testing data**"
      ]
    },
    {
      "cell_type": "code",
      "execution_count": 292,
      "metadata": {
        "id": "RM5VlAQC3Ezw"
      },
      "outputs": [],
      "source": [
        "#Linear Regression \n",
        "lr_y_testing = lr.predict(x_test)\n",
        "#Lasso Regression \n",
        "lsr_y_testing = lsr.predict(x_test)\n",
        "#Ridge Regression \n",
        "rr_y_testing = rr.predict(x_test)\n",
        "#Support Vector Machine\n",
        "sr_y_testing = sr.predict(x_test)\n",
        "#Decision tree Regression \n",
        "dtr_y_testing = dtr.predict(x_test)\n",
        "#Random Forest Regressor \n",
        "rfr_y_testing = rfr.predict(x_test)"
      ]
    },
    {
      "attachments": {},
      "cell_type": "markdown",
      "metadata": {
        "id": "m1vXBloIM2B1"
      },
      "source": [
        "**R squared score on Training data**"
      ]
    },
    {
      "cell_type": "code",
      "execution_count": 293,
      "metadata": {
        "colab": {
          "base_uri": "https://localhost:8080/"
        },
        "id": "xJZuewS23HRA",
        "outputId": "1a428ced-8c28-4952-cf9e-194fddbb4bb1"
      },
      "outputs": [
        {
          "name": "stdout",
          "output_type": "stream",
          "text": [
            "Linear Regression: 0.8035755119807366\n",
            "Lasso Regression: 0.8035754505610668\n",
            "Ridge Regression: 0.8035754994826328\n",
            "Support Vector Machine: : 0.8023798835391375\n",
            "Decision Tree: 0.8501274647256213\n",
            "Random Forest: 0.8745118545747098\n"
          ]
        }
      ],
      "source": [
        "print('Linear Regression:', r2_score(y_train, lr_y_train))\n",
        "print('Lasso Regression:', r2_score(y_train, lsr_y_train))\n",
        "print('Ridge Regression:', r2_score(y_train, rr_y_train))\n",
        "print('Support Vector Machine: :', r2_score(y_train, sr_y_train))\n",
        "print('Decision Tree:', r2_score(y_train, dtr_y_train))\n",
        "print('Random Forest:', r2_score(y_train, rfr_y_train))"
      ]
    },
    {
      "attachments": {},
      "cell_type": "markdown",
      "metadata": {
        "id": "JYS0a56nM3-z"
      },
      "source": [
        "**R Squared score on Testing data**"
      ]
    },
    {
      "cell_type": "code",
      "execution_count": 294,
      "metadata": {
        "colab": {
          "base_uri": "https://localhost:8080/"
        },
        "id": "i8UFhGvR33VK",
        "outputId": "1cbea8d8-211b-4542-c548-243fe05ac86d"
      },
      "outputs": [
        {
          "name": "stdout",
          "output_type": "stream",
          "text": [
            "Linear Regression: 0.7964893041421748\n",
            "Lasso Regression: 0.7965014410090254\n",
            "Ridge Regression: 0.7964932571483581\n",
            "Support Vector Machine: 0.7932212672780806\n",
            "Decision Tree: 0.49796354169593016\n",
            "Random Forest: 0.7349809680454571\n"
          ]
        }
      ],
      "source": [
        "print('Linear Regression:', r2_score(y_test, lr_y_testing))\n",
        "print('Lasso Regression:', r2_score(y_test, lsr_y_testing))\n",
        "print('Ridge Regression:', r2_score(y_test, rr_y_testing))\n",
        "print('Support Vector Machine:', r2_score(y_test, sr_y_testing))\n",
        "print('Decision Tree:', r2_score(y_test, dtr_y_testing))\n",
        "print('Random Forest:', r2_score(y_test, rfr_y_testing))"
      ]
    },
    {
      "attachments": {},
      "cell_type": "markdown",
      "metadata": {
        "id": "S1J59duRM_6t"
      },
      "source": [
        "**Root mean squared error on Training data**"
      ]
    },
    {
      "cell_type": "code",
      "execution_count": 295,
      "metadata": {
        "colab": {
          "base_uri": "https://localhost:8080/"
        },
        "id": "bOiX2sOR35l1",
        "outputId": "984adba0-ec98-483c-dc2b-f47955e0c76a"
      },
      "outputs": [
        {
          "name": "stdout",
          "output_type": "stream",
          "text": [
            "Linear Regression: 5229.443614553162\n",
            "Lasso Regression: 5229.44443214642\n",
            "Ridge Regression: 5229.443780922764\n",
            "Support Vector Machine: 5245.335181309092\n",
            "Decision Tree: 4567.922181738245\n",
            "Random Forest: 4179.833864279293\n"
          ]
        }
      ],
      "source": [
        "print('Linear Regression:', np.sqrt(mean_squared_error(y_train, lr_y_train)))\n",
        "print('Lasso Regression:', np.sqrt(mean_squared_error(y_train, lsr_y_train)))\n",
        "print('Ridge Regression:', np.sqrt(mean_squared_error(y_train, rr_y_train)))\n",
        "print('Support Vector Machine:', np.sqrt(mean_squared_error(y_train, sr_y_train)))\n",
        "print('Decision Tree:', np.sqrt(mean_squared_error(y_train, dtr_y_train)))\n",
        "print('Random Forest:', np.sqrt(mean_squared_error(y_train, rfr_y_train)))"
      ]
    },
    {
      "attachments": {},
      "cell_type": "markdown",
      "metadata": {
        "id": "0GfVAf0ENGuC"
      },
      "source": [
        "**Root mean squared error on Training data**"
      ]
    },
    {
      "cell_type": "code",
      "execution_count": 296,
      "metadata": {
        "colab": {
          "base_uri": "https://localhost:8080/"
        },
        "id": "5DnQJ8Cr3813",
        "outputId": "d6d69205-860d-4646-d7db-4e62b0415b5b"
      },
      "outputs": [
        {
          "name": "stdout",
          "output_type": "stream",
          "text": [
            "Linear Regression: 5021.450951203759\n",
            "Lasso Regression: 5021.30121560876\n",
            "Ridge Regression: 5021.402182457312\n",
            "Support Vector Machine: 5061.608374173085\n",
            "Decision Tree: 7886.843694689961\n",
            "Random Forest: 5730.25748259702\n"
          ]
        }
      ],
      "source": [
        "print('Linear Regression:', np.sqrt(mean_squared_error(y_test, lr_y_testing)))\n",
        "print('Lasso Regression:', np.sqrt(mean_squared_error(y_test, lsr_y_testing)))\n",
        "print('Ridge Regression:', np.sqrt(mean_squared_error(y_test, rr_y_testing)))\n",
        "print('Support Vector Machine:', np.sqrt(mean_squared_error(y_test, sr_y_testing)))\n",
        "print('Decision Tree:', np.sqrt(mean_squared_error(y_test, dtr_y_testing)))\n",
        "print('Random Forest:', np.sqrt(mean_squared_error(y_test, rfr_y_testing)))"
      ]
    },
    {
      "attachments": {},
      "cell_type": "markdown",
      "metadata": {
        "id": "Y5Wo0v3QGTxT"
      },
      "source": [
        "**Feature Importance**"
      ]
    },
    {
      "cell_type": "code",
      "execution_count": 297,
      "metadata": {
        "id": "Am1luSUBOeCM"
      },
      "outputs": [],
      "source": [
        "Features=['Reach', 'Local_tv_Advertisement', 'Online_Advertisement', 'Instore Advertisement', 'Person', 'Holiday_event', 'Non_event', 'Special_event']"
      ]
    },
    {
      "cell_type": "code",
      "execution_count": 298,
      "metadata": {
        "colab": {
          "base_uri": "https://localhost:8080/",
          "height": 466
        },
        "id": "4lQ81OXvGUTd",
        "outputId": "a2e6f509-a8e2-419d-e588-da177b1f894c"
      },
      "outputs": [
        {
          "data": {
            "text/plain": [
              "Text(0.5, 1.0, 'Features Importance')"
            ]
          },
          "execution_count": 298,
          "metadata": {},
          "output_type": "execute_result"
        },
        {
          "data": {
            "image/png": "[encoded data removed]",
            "text/plain": [
              "<Figure size 640x480 with 1 Axes>"
            ]
          },
          "metadata": {},
          "output_type": "display_data"
        }
      ],
      "source": [
        "feature=pd.DataFrame(data=list(rr.coef_), index=Features)\n",
        "feature.plot(kind='barh', legend=False)\n",
        "plt.xlabel('Coefficient')\n",
        "plt.ylabel('Features')\n",
        "plt.title('Features Importance')"
      ]
    },
    {
      "attachments": {},
      "cell_type": "markdown",
      "metadata": {
        "id": "2P3m8gmWQHH5"
      },
      "source": [
        "**Observation:** \n",
        "\n",
        "- The graph above shows the features that are important on predicting the revenue. Like deduced previously, Local Television Advsertisement and Person Advertisement influence the Revenue positively.\n",
        "- Moreover, reach negatively influence the revenues.  "
      ]
    }
  ],
  "metadata": {
    "colab": {
      "provenance": []
    },
    "kernelspec": {
      "display_name": "Python 3",
      "name": "python3"
    },
    "language_info": {
      "codemirror_mode": {
        "name": "ipython",
        "version": 3
      },
      "file_extension": ".py",
      "mimetype": "text/x-python",
      "name": "python",
      "nbconvert_exporter": "python",
      "pygments_lexer": "ipython3",
      "version": "3.11.2"
    }
  },
  "nbformat": 4,
  "nbformat_minor": 0
}
